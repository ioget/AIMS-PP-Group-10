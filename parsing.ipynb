{
 "cells": [
  {
   "cell_type": "code",
   "execution_count": 4,
   "id": "4a34f524",
   "metadata": {},
   "outputs": [],
   "source": [
    "def pattern_recognition(string, seps=[' ', '-'], default_sep='-'):\n",
    "    for sep in seps:\n",
    "        string = string.strip(sep)\n",
    "        string = string.replace(sep, default_sep)\n",
    "\n",
    "    condition = (len(string) >= 9 and string.count(default_sep) >= 2)\n",
    "\n",
    "    if not condition: \n",
    "        return []\n",
    "\n",
    "    string = string.upper()\n",
    "\n",
    "    patterns = []\n",
    "\n",
    "    while condition:\n",
    "        pattern = ''\n",
    "        for i in range(len(string)):\n",
    "            if string[i] == default_sep:\n",
    "                sep = string[i]\n",
    "                try:\n",
    "                    if (string[i-2:i].isalpha() and string[i+1:i+5].isdigit() and sep == string[i+5]):\n",
    "                        has_enbedded_patterns = False\n",
    "                        try:\n",
    "                            if string[i+6:i+7].isalpha():\n",
    "                                pattern1 = string[i-2:i+7]\n",
    "\n",
    "                            if string[i+6:i+8].isalpha():\n",
    "                                pattern2 = string[i-2:i+8]\n",
    "                                has_embedded_patterns = True\n",
    "                            else:\n",
    "                                raise Exception\n",
    "                            \n",
    "                            if has_embedded_patterns:\n",
    "                                string = string[i-2:]\n",
    "                                string = string.replace(pattern1, '')\n",
    "\n",
    "                                patterns.extend([pattern1, pattern2])\n",
    "                                pattern = pattern1\n",
    "                                break\n",
    "                        except Exception:\n",
    "                            if string[i+6:i+7].isalpha():\n",
    "                                pattern = string[i-2:i+7]\n",
    "                                string = string[i-2:]\n",
    "                                string = string.replace(pattern, '')\n",
    "                                patterns.append(pattern)\n",
    "                            else:\n",
    "                                string = string[i+1:]\n",
    "                            break\n",
    "                except IndexError:\n",
    "                    string = string[i+1:]\n",
    "                    break\n",
    "        if not pattern:\n",
    "            string = string[i+1:]\n",
    "\n",
    "        string = string.strip(default_sep)\n",
    "\n",
    "        condition = (len(string) >= 9 and string.count(default_sep) >= 2)\n",
    "    \n",
    "    return set(patterns)"
   ]
  },
  {
   "cell_type": "code",
   "execution_count": 5,
   "id": "6d73a90e",
   "metadata": {},
   "outputs": [],
   "source": [
    "text = \"\"\"\n",
    "\n",
    "as--1234-a as-1243-az\n",
    "\n",
    "\"\"\""
   ]
  },
  {
   "cell_type": "code",
   "execution_count": 6,
   "id": "96aaab0a",
   "metadata": {},
   "outputs": [
    {
     "data": {
      "text/plain": [
       "{'AS-1243-A', 'AS-1243-AZ'}"
      ]
     },
     "execution_count": 6,
     "metadata": {},
     "output_type": "execute_result"
    }
   ],
   "source": [
    "pattern_recognition(text)"
   ]
  },
  {
   "cell_type": "code",
   "execution_count": null,
   "id": "214b6d16-6f6f-49e0-b0ae-00c9976950a7",
   "metadata": {},
   "outputs": [],
   "source": []
  }
 ],
 "metadata": {
  "kernelspec": {
   "display_name": "venv",
   "language": "python",
   "name": "python3"
  },
  "language_info": {
   "codemirror_mode": {
    "name": "ipython",
    "version": 3
   },
   "file_extension": ".py",
   "mimetype": "text/x-python",
   "name": "python",
   "nbconvert_exporter": "python",
   "pygments_lexer": "ipython3",
   "version": "3.13.3"
  }
 },
 "nbformat": 4,
 "nbformat_minor": 5
}
